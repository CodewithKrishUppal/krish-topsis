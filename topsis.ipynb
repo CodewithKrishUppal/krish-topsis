{
 "cells": [
  {
   "cell_type": "code",
   "execution_count": 107,
   "id": "2742b79c",
   "metadata": {},
   "outputs": [],
   "source": [
    "import pandas as pd\n",
    "import numpy as np"
   ]
  },
  {
   "cell_type": "code",
   "execution_count": 108,
   "id": "c1a4fd43",
   "metadata": {},
   "outputs": [],
   "source": [
    "data=pd.read_excel(\"/Users/krishuppal/Desktop/data.xlsx\")"
   ]
  },
  {
   "cell_type": "code",
   "execution_count": 109,
   "id": "734c1a77",
   "metadata": {},
   "outputs": [
    {
     "data": {
      "text/html": [
       "<div>\n",
       "<style scoped>\n",
       "    .dataframe tbody tr th:only-of-type {\n",
       "        vertical-align: middle;\n",
       "    }\n",
       "\n",
       "    .dataframe tbody tr th {\n",
       "        vertical-align: top;\n",
       "    }\n",
       "\n",
       "    .dataframe thead th {\n",
       "        text-align: right;\n",
       "    }\n",
       "</style>\n",
       "<table border=\"1\" class=\"dataframe\">\n",
       "  <thead>\n",
       "    <tr style=\"text-align: right;\">\n",
       "      <th></th>\n",
       "      <th>Fund Name</th>\n",
       "      <th>P1</th>\n",
       "      <th>P2</th>\n",
       "      <th>P3</th>\n",
       "      <th>P4</th>\n",
       "      <th>P5</th>\n",
       "    </tr>\n",
       "  </thead>\n",
       "  <tbody>\n",
       "    <tr>\n",
       "      <th>0</th>\n",
       "      <td>M1</td>\n",
       "      <td>0.84</td>\n",
       "      <td>0.71</td>\n",
       "      <td>6.7</td>\n",
       "      <td>42.1</td>\n",
       "      <td>12.59</td>\n",
       "    </tr>\n",
       "    <tr>\n",
       "      <th>1</th>\n",
       "      <td>M2</td>\n",
       "      <td>0.91</td>\n",
       "      <td>0.83</td>\n",
       "      <td>7.0</td>\n",
       "      <td>31.7</td>\n",
       "      <td>10.11</td>\n",
       "    </tr>\n",
       "    <tr>\n",
       "      <th>2</th>\n",
       "      <td>M3</td>\n",
       "      <td>0.79</td>\n",
       "      <td>0.62</td>\n",
       "      <td>4.8</td>\n",
       "      <td>46.7</td>\n",
       "      <td>13.23</td>\n",
       "    </tr>\n",
       "    <tr>\n",
       "      <th>3</th>\n",
       "      <td>M4</td>\n",
       "      <td>0.78</td>\n",
       "      <td>0.61</td>\n",
       "      <td>6.4</td>\n",
       "      <td>42.4</td>\n",
       "      <td>12.55</td>\n",
       "    </tr>\n",
       "    <tr>\n",
       "      <th>4</th>\n",
       "      <td>M5</td>\n",
       "      <td>0.94</td>\n",
       "      <td>0.88</td>\n",
       "      <td>3.6</td>\n",
       "      <td>62.2</td>\n",
       "      <td>16.91</td>\n",
       "    </tr>\n",
       "    <tr>\n",
       "      <th>5</th>\n",
       "      <td>M6</td>\n",
       "      <td>0.88</td>\n",
       "      <td>0.77</td>\n",
       "      <td>6.5</td>\n",
       "      <td>51.5</td>\n",
       "      <td>14.91</td>\n",
       "    </tr>\n",
       "    <tr>\n",
       "      <th>6</th>\n",
       "      <td>M7</td>\n",
       "      <td>0.66</td>\n",
       "      <td>0.44</td>\n",
       "      <td>5.3</td>\n",
       "      <td>48.9</td>\n",
       "      <td>13.83</td>\n",
       "    </tr>\n",
       "    <tr>\n",
       "      <th>7</th>\n",
       "      <td>M8</td>\n",
       "      <td>0.93</td>\n",
       "      <td>0.86</td>\n",
       "      <td>3.4</td>\n",
       "      <td>37.0</td>\n",
       "      <td>10.55</td>\n",
       "    </tr>\n",
       "  </tbody>\n",
       "</table>\n",
       "</div>"
      ],
      "text/plain": [
       "  Fund Name    P1    P2   P3    P4     P5\n",
       "0        M1  0.84  0.71  6.7  42.1  12.59\n",
       "1        M2  0.91  0.83  7.0  31.7  10.11\n",
       "2        M3  0.79  0.62  4.8  46.7  13.23\n",
       "3        M4  0.78  0.61  6.4  42.4  12.55\n",
       "4        M5  0.94  0.88  3.6  62.2  16.91\n",
       "5        M6  0.88  0.77  6.5  51.5  14.91\n",
       "6        M7  0.66  0.44  5.3  48.9  13.83\n",
       "7        M8  0.93  0.86  3.4  37.0  10.55"
      ]
     },
     "execution_count": 109,
     "metadata": {},
     "output_type": "execute_result"
    }
   ],
   "source": [
    "data"
   ]
  },
  {
   "cell_type": "code",
   "execution_count": 110,
   "id": "7c510848",
   "metadata": {},
   "outputs": [
    {
     "data": {
      "text/plain": [
       "array([['M1', 0.84, 0.71, 6.7, 42.1, 12.59],\n",
       "       ['M2', 0.91, 0.83, 7.0, 31.7, 10.11],\n",
       "       ['M3', 0.79, 0.62, 4.8, 46.7, 13.23],\n",
       "       ['M4', 0.78, 0.61, 6.4, 42.4, 12.55],\n",
       "       ['M5', 0.94, 0.88, 3.6, 62.2, 16.91],\n",
       "       ['M6', 0.88, 0.77, 6.5, 51.5, 14.91],\n",
       "       ['M7', 0.66, 0.44, 5.3, 48.9, 13.83],\n",
       "       ['M8', 0.93, 0.86, 3.4, 37.0, 10.55]], dtype=object)"
      ]
     },
     "execution_count": 110,
     "metadata": {},
     "output_type": "execute_result"
    }
   ],
   "source": [
    "data=np.array(data)\n",
    "data2=data\n",
    "data2"
   ]
  },
  {
   "cell_type": "code",
   "execution_count": 111,
   "id": "536ada13",
   "metadata": {},
   "outputs": [
    {
     "name": "stdout",
     "output_type": "stream",
     "text": [
      "Normalized data: [['M1' 0.3510774374599885 0.71 6.7 42.1 12.59]\n",
      " ['M2' 0.3803338905816542 0.83 7.0 31.7 10.11]\n",
      " ['M3' 0.33017997094451296 0.62 4.8 46.7 13.23]\n",
      " ['M4' 0.3260004776414179 0.61 6.4 42.4 12.55]\n",
      " ['M5' 0.3928723704909395 0.88 3.6 62.2 16.91]\n",
      " ['M6' 0.36779541067236887 0.77 6.5 51.5 14.91]\n",
      " ['M7' 0.27584655800427665 0.44 5.3 48.9 13.83]\n",
      " ['M8' 0.3886928771878444 0.86 3.4 37.0 10.55]]\n"
     ]
    }
   ],
   "source": [
    "column_index = 1\n",
    "column_data = data[:, column_index]\n",
    "column_norm = np.linalg.norm(column_data)\n",
    "normalized_column = column_data / column_norm\n",
    "data[:, column_index] = normalized_column\n",
    "print(\"Normalized data:\", data)"
   ]
  },
  {
   "cell_type": "code",
   "execution_count": 112,
   "id": "7596bfa5",
   "metadata": {},
   "outputs": [
    {
     "name": "stdout",
     "output_type": "stream",
     "text": [
      "Normalized data: [['M1' 0.3510774374599885 0.3444005875515928 6.7 42.1 12.59]\n",
      " ['M2' 0.3803338905816542 0.4026091375603127 7.0 31.7 10.11]\n",
      " ['M3' 0.33017997094451296 0.3007441750450529 4.8 46.7 13.23]\n",
      " ['M4' 0.3260004776414179 0.2958934625443262 6.4 42.4 12.55]\n",
      " ['M5' 0.3928723704909395 0.42686270006394605 3.6 62.2 16.91]\n",
      " ['M6' 0.36779541067236887 0.3735048625559528 6.5 51.5 14.91]\n",
      " ['M7' 0.27584655800427665 0.21343135003197303 5.3 48.9 13.83]\n",
      " ['M8' 0.3886928771878444 0.41716127506249273 3.4 37.0 10.55]]\n"
     ]
    }
   ],
   "source": [
    "column_index = 2\n",
    "column_data = data[:, column_index]\n",
    "column_norm = np.linalg.norm(column_data)\n",
    "normalized_column = column_data / column_norm\n",
    "data[:, column_index] = normalized_column\n",
    "print(\"Normalized data:\", data)"
   ]
  },
  {
   "cell_type": "code",
   "execution_count": 113,
   "id": "5e5cb783",
   "metadata": {},
   "outputs": [
    {
     "name": "stdout",
     "output_type": "stream",
     "text": [
      "Normalized data: [['M1' 0.3510774374599885 0.3444005875515928 0.4214336606940341 42.1\n",
      "  12.59]\n",
      " ['M2' 0.3803338905816542 0.4026091375603127 0.4403038246057073 31.7\n",
      "  10.11]\n",
      " ['M3' 0.33017997094451296 0.3007441750450529 0.30192262258677066 46.7\n",
      "  13.23]\n",
      " ['M4' 0.3260004776414179 0.2958934625443262 0.402563496782361 42.4 12.55]\n",
      " ['M5' 0.3928723704909395 0.42686270006394605 0.22644196694007804 62.2\n",
      "  16.91]\n",
      " ['M6' 0.36779541067236887 0.3735048625559528 0.40885355141958535 51.5\n",
      "  14.91]\n",
      " ['M7' 0.27584655800427665 0.21343135003197303 0.33337289577289264 48.9\n",
      "  13.83]\n",
      " ['M8' 0.3886928771878444 0.41716127506249273 0.21386185766562923 37.0\n",
      "  10.55]]\n"
     ]
    }
   ],
   "source": [
    "column_index = 3\n",
    "column_data = data[:, column_index]\n",
    "column_norm = np.linalg.norm(column_data)\n",
    "normalized_column = column_data / column_norm\n",
    "data[:, column_index] = normalized_column\n",
    "print(\"Normalized data:\", data)"
   ]
  },
  {
   "cell_type": "code",
   "execution_count": 114,
   "id": "0235f242",
   "metadata": {},
   "outputs": [
    {
     "name": "stdout",
     "output_type": "stream",
     "text": [
      "Normalized data: [['M1' 0.3510774374599885 0.3444005875515928 0.4214336606940341\n",
      "  0.3225390836415167 12.59]\n",
      " ['M2' 0.3803338905816542 0.4026091375603127 0.4403038246057073\n",
      "  0.2428619703428997 10.11]\n",
      " ['M3' 0.33017997094451296 0.3007441750450529 0.30192262258677066\n",
      "  0.35778088375436645 13.23]\n",
      " ['M4' 0.3260004776414179 0.2958934625443262 0.402563496782361\n",
      "  0.324837461909746 12.55]\n",
      " ['M5' 0.3928723704909395 0.42686270006394605 0.22644196694007804\n",
      "  0.4765304276128821 16.91]\n",
      " ['M6' 0.36779541067236887 0.3735048625559528 0.40885355141958535\n",
      "  0.3945549360460358 14.91]\n",
      " ['M7' 0.27584655800427665 0.21343135003197303 0.33337289577289264\n",
      "  0.3746356577213816 13.83]\n",
      " ['M8' 0.3886928771878444 0.41716127506249273 0.21386185766562923\n",
      "  0.28346665308161795 10.55]]\n"
     ]
    }
   ],
   "source": [
    "column_index = 4\n",
    "column_data = data[:, column_index]\n",
    "column_norm = np.linalg.norm(column_data)\n",
    "normalized_column = column_data / column_norm\n",
    "data[:, column_index] = normalized_column\n",
    "print(\"Normalized data:\", data)"
   ]
  },
  {
   "cell_type": "code",
   "execution_count": 115,
   "id": "7562c259",
   "metadata": {},
   "outputs": [
    {
     "name": "stdout",
     "output_type": "stream",
     "text": [
      "Normalized data: [['M1' 0.3510774374599885 0.3444005875515928 0.4214336606940341\n",
      "  0.3225390836415167 0.3359922875547845]\n",
      " ['M2' 0.3803338905816542 0.4026091375603127 0.4403038246057073\n",
      "  0.2428619703428997 0.2698079449705219]\n",
      " ['M3' 0.33017997094451296 0.3007441750450529 0.30192262258677066\n",
      "  0.35778088375436645 0.3530721178991103]\n",
      " ['M4' 0.3260004776414179 0.2958934625443262 0.402563496782361\n",
      "  0.324837461909746 0.33492479815826415]\n",
      " ['M5' 0.3928723704909395 0.42686270006394605 0.22644196694007804\n",
      "  0.4765304276128821 0.45128114237898376]\n",
      " ['M6' 0.36779541067236887 0.3735048625559528 0.40885355141958535\n",
      "  0.3945549360460358 0.3979066725529656]\n",
      " ['M7' 0.27584655800427665 0.21343135003197303 0.33337289577289264\n",
      "  0.3746356577213816 0.36908445884691576]\n",
      " ['M8' 0.3886928771878444 0.41716127506249273 0.21386185766562923\n",
      "  0.28346665308161795 0.28155032833224597]]\n"
     ]
    }
   ],
   "source": [
    "column_index = 5\n",
    "column_data = data[:, column_index]\n",
    "column_norm = np.linalg.norm(column_data)\n",
    "normalized_column = column_data / column_norm\n",
    "data[:, column_index] = normalized_column\n",
    "print(\"Normalized data:\", data)"
   ]
  },
  {
   "cell_type": "code",
   "execution_count": 116,
   "id": "ee9fa52e",
   "metadata": {},
   "outputs": [
    {
     "data": {
      "text/plain": [
       "array([['M1', 0.3510774374599885, 0.3444005875515928, 0.4214336606940341,\n",
       "        0.3225390836415167, 0.3359922875547845],\n",
       "       ['M2', 0.3803338905816542, 0.4026091375603127, 0.4403038246057073,\n",
       "        0.2428619703428997, 0.2698079449705219],\n",
       "       ['M3', 0.33017997094451296, 0.3007441750450529,\n",
       "        0.30192262258677066, 0.35778088375436645, 0.3530721178991103],\n",
       "       ['M4', 0.3260004776414179, 0.2958934625443262, 0.402563496782361,\n",
       "        0.324837461909746, 0.33492479815826415],\n",
       "       ['M5', 0.3928723704909395, 0.42686270006394605,\n",
       "        0.22644196694007804, 0.4765304276128821, 0.45128114237898376],\n",
       "       ['M6', 0.36779541067236887, 0.3735048625559528,\n",
       "        0.40885355141958535, 0.3945549360460358, 0.3979066725529656],\n",
       "       ['M7', 0.27584655800427665, 0.21343135003197303,\n",
       "        0.33337289577289264, 0.3746356577213816, 0.36908445884691576],\n",
       "       ['M8', 0.3886928771878444, 0.41716127506249273,\n",
       "        0.21386185766562923, 0.28346665308161795, 0.28155032833224597]],\n",
       "      dtype=object)"
      ]
     },
     "execution_count": 116,
     "metadata": {},
     "output_type": "execute_result"
    }
   ],
   "source": [
    "data"
   ]
  },
  {
   "cell_type": "code",
   "execution_count": 117,
   "id": "84abe02a",
   "metadata": {},
   "outputs": [],
   "source": [
    "data=data[:,1:]"
   ]
  },
  {
   "cell_type": "code",
   "execution_count": 118,
   "id": "fd243bef",
   "metadata": {},
   "outputs": [],
   "source": [
    "data = data.astype(float)"
   ]
  },
  {
   "cell_type": "code",
   "execution_count": 119,
   "id": "e63ccced",
   "metadata": {},
   "outputs": [
    {
     "data": {
      "text/plain": [
       "array([2, 2, 3, 3, 4])"
      ]
     },
     "execution_count": 119,
     "metadata": {},
     "output_type": "execute_result"
    }
   ],
   "source": [
    "weights=np.array([2,2,3,3,4])\n",
    "weights"
   ]
  },
  {
   "cell_type": "code",
   "execution_count": 120,
   "id": "d583f0f4",
   "metadata": {},
   "outputs": [
    {
     "data": {
      "text/plain": [
       "['-', '+', '-', '+', '-']"
      ]
     },
     "execution_count": 120,
     "metadata": {},
     "output_type": "execute_result"
    }
   ],
   "source": [
    "impact = ['-', '+', '-', '+', '-']\n",
    "impact"
   ]
  },
  {
   "cell_type": "code",
   "execution_count": 121,
   "id": "7bef1d5a",
   "metadata": {},
   "outputs": [
    {
     "data": {
      "text/plain": [
       "array([[-0.70215487,  0.68880118, -1.26430098,  0.96761725, -1.34396915],\n",
       "       [-0.76066778,  0.80521828, -1.32091147,  0.72858591, -1.07923178],\n",
       "       [-0.66035994,  0.60148835, -0.90576787,  1.07334265, -1.41228847],\n",
       "       [-0.65200096,  0.59178693, -1.20769049,  0.97451239, -1.33969919],\n",
       "       [-0.78574474,  0.8537254 , -0.6793259 ,  1.42959128, -1.80512457],\n",
       "       [-0.73559082,  0.74700973, -1.22656065,  1.18366481, -1.59162669],\n",
       "       [-0.55169312,  0.4268627 , -1.00011869,  1.12390697, -1.47633784],\n",
       "       [-0.77738575,  0.83432255, -0.64158557,  0.85039996, -1.12620131]])"
      ]
     },
     "execution_count": 121,
     "metadata": {},
     "output_type": "execute_result"
    }
   ],
   "source": [
    "data=data*weights*np.where(np.array(impact) == '+', 1, -1)\n",
    "data"
   ]
  },
  {
   "cell_type": "code",
   "execution_count": 122,
   "id": "020f0547",
   "metadata": {},
   "outputs": [
    {
     "data": {
      "text/plain": [
       "array([-0.55169312,  0.8537254 , -0.64158557,  1.42959128, -1.07923178])"
      ]
     },
     "execution_count": 122,
     "metadata": {},
     "output_type": "execute_result"
    }
   ],
   "source": [
    "ideal_sol = np.max(data, axis=0)\n",
    "negative_ideal_sol = np.min(data, axis=0)\n",
    "ideal_sol"
   ]
  },
  {
   "cell_type": "code",
   "execution_count": 123,
   "id": "075287cf",
   "metadata": {},
   "outputs": [
    {
     "data": {
      "text/plain": [
       "array([-0.78574474,  0.4268627 , -1.32091147,  0.72858591, -1.80512457])"
      ]
     },
     "execution_count": 123,
     "metadata": {},
     "output_type": "execute_result"
    }
   ],
   "source": [
    "negative_ideal_sol"
   ]
  },
  {
   "cell_type": "code",
   "execution_count": 124,
   "id": "8fe66ee4",
   "metadata": {},
   "outputs": [],
   "source": [
    "distance_to_ideal = np.linalg.norm(data - ideal_sol, axis=1)\n",
    "distance_to_negative_ideal = np.linalg.norm(data - negative_ideal_sol, axis=1)"
   ]
  },
  {
   "cell_type": "code",
   "execution_count": 125,
   "id": "33b2014c",
   "metadata": {},
   "outputs": [],
   "source": [
    "topsis_score = distance_to_negative_ideal / (distance_to_ideal + distance_to_negative_ideal)"
   ]
  },
  {
   "cell_type": "code",
   "execution_count": 126,
   "id": "bdc06eb1",
   "metadata": {},
   "outputs": [
    {
     "data": {
      "text/plain": [
       "array([0.41012861, 0.45037082, 0.53117722, 0.41347825, 0.57702762,\n",
       "       0.41804256, 0.46429246, 0.62744873])"
      ]
     },
     "execution_count": 126,
     "metadata": {},
     "output_type": "execute_result"
    }
   ],
   "source": [
    "topsis_score"
   ]
  },
  {
   "cell_type": "code",
   "execution_count": 127,
   "id": "20624fde",
   "metadata": {},
   "outputs": [
    {
     "name": "stdout",
     "output_type": "stream",
     "text": [
      "Row Ranks based on column 4: [5 8 4 6 1 2 3 7]\n"
     ]
    }
   ],
   "source": [
    "def rank_rows(data, column_index, ascending=True):\n",
    "    column_values = data[:, column_index]\n",
    "    sorted_indices = np.argsort(column_values, kind='quicksort')  # Use quicksort for stable sorting\n",
    "\n",
    "    if not ascending:\n",
    "        sorted_indices = sorted_indices[::-1]\n",
    "\n",
    "    ranks = np.empty_like(sorted_indices)\n",
    "    ranks[sorted_indices] = np.arange(len(sorted_indices)) + 1\n",
    "\n",
    "    return ranks\n",
    "\n",
    "column_index_to_rank = 4 \n",
    "ascending_order = True  \n",
    "\n",
    "row_ranks = rank_rows(data, column_index_to_rank, ascending_order)\n",
    "print(\"Row Ranks based on column {}: {}\".format(column_index_to_rank, row_ranks))\n"
   ]
  },
  {
   "cell_type": "code",
   "execution_count": 128,
   "id": "0e3dadbc",
   "metadata": {},
   "outputs": [
    {
     "name": "stdout",
     "output_type": "stream",
     "text": [
      "    0         1         2         3         4         5  Rank\n",
      "0  M1  0.351077  0.344401  0.421434  0.322539  0.335992     5\n",
      "1  M2  0.380334  0.402609  0.440304  0.242862  0.269808     8\n",
      "2  M3   0.33018  0.300744  0.301923  0.357781  0.353072     4\n",
      "3  M4     0.326  0.295893  0.402563  0.324837  0.334925     6\n",
      "4  M5  0.392872  0.426863  0.226442   0.47653  0.451281     1\n",
      "5  M6  0.367795  0.373505  0.408854  0.394555  0.397907     2\n",
      "6  M7  0.275847  0.213431  0.333373  0.374636  0.369084     3\n",
      "7  M8  0.388693  0.417161  0.213862  0.283467   0.28155     7\n"
     ]
    }
   ],
   "source": [
    "df = pd.DataFrame(data2)\n",
    "df['Rank'] = row_ranks\n",
    "\n",
    "print(df)"
   ]
  },
  {
   "cell_type": "code",
   "execution_count": 129,
   "id": "534dc83d",
   "metadata": {},
   "outputs": [],
   "source": [
    "excel_file_path = '/Users/krishuppal/Desktop/102103058-result-2.xlsx'\n",
    "df.to_excel(excel_file_path, index=False)"
   ]
  },
  {
   "cell_type": "code",
   "execution_count": null,
   "id": "2a465679",
   "metadata": {},
   "outputs": [],
   "source": []
  }
 ],
 "metadata": {
  "kernelspec": {
   "display_name": "Python 3 (ipykernel)",
   "language": "python",
   "name": "python3"
  },
  "language_info": {
   "codemirror_mode": {
    "name": "ipython",
    "version": 3
   },
   "file_extension": ".py",
   "mimetype": "text/x-python",
   "name": "python",
   "nbconvert_exporter": "python",
   "pygments_lexer": "ipython3",
   "version": "3.11.5"
  }
 },
 "nbformat": 4,
 "nbformat_minor": 5
}
